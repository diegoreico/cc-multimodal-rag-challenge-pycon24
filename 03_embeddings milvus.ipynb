{
 "cells": [
  {
   "cell_type": "code",
   "execution_count": 1,
   "id": "767fa029-3550-4c7a-b9cf-cadb06f39cc2",
   "metadata": {},
   "outputs": [
    {
     "name": "stdout",
     "output_type": "stream",
     "text": [
      "Collecting pymilvus==2.4.5\n",
      "  Using cached pymilvus-2.4.5-py3-none-any.whl.metadata (5.6 kB)\n",
      "Requirement already satisfied: setuptools>69 in ./env/lib/python3.11/site-packages (from pymilvus==2.4.5) (75.1.0)\n",
      "Requirement already satisfied: grpcio<=1.63.0,>=1.49.1 in ./env/lib/python3.11/site-packages (from pymilvus==2.4.5) (1.63.0)\n",
      "Requirement already satisfied: protobuf>=3.20.0 in ./env/lib/python3.11/site-packages (from pymilvus==2.4.5) (4.25.5)\n",
      "Requirement already satisfied: environs<=9.5.0 in ./env/lib/python3.11/site-packages (from pymilvus==2.4.5) (9.5.0)\n",
      "Requirement already satisfied: ujson>=2.0.0 in ./env/lib/python3.11/site-packages (from pymilvus==2.4.5) (5.10.0)\n",
      "Requirement already satisfied: pandas>=1.2.4 in ./env/lib/python3.11/site-packages (from pymilvus==2.4.5) (2.2.3)\n",
      "Requirement already satisfied: milvus-lite<2.5.0,>=2.4.0 in ./env/lib/python3.11/site-packages (from pymilvus==2.4.5) (2.4.10)\n",
      "Requirement already satisfied: milvus-model>=0.1.0 in ./env/lib/python3.11/site-packages (from pymilvus[model]) (0.2.7)\n",
      "Requirement already satisfied: marshmallow>=3.0.0 in ./env/lib/python3.11/site-packages (from environs<=9.5.0->pymilvus==2.4.5) (3.22.0)\n",
      "Requirement already satisfied: python-dotenv in ./env/lib/python3.11/site-packages (from environs<=9.5.0->pymilvus==2.4.5) (1.0.1)\n",
      "Requirement already satisfied: tqdm in ./env/lib/python3.11/site-packages (from milvus-lite<2.5.0,>=2.4.0->pymilvus==2.4.5) (4.66.5)\n",
      "Requirement already satisfied: transformers>=4.36.0 in ./env/lib/python3.11/site-packages (from milvus-model>=0.1.0->pymilvus[model]) (4.45.1)\n",
      "Requirement already satisfied: onnxruntime in ./env/lib/python3.11/site-packages (from milvus-model>=0.1.0->pymilvus[model]) (1.19.2)\n",
      "Requirement already satisfied: scipy>=1.10.0 in ./env/lib/python3.11/site-packages (from milvus-model>=0.1.0->pymilvus[model]) (1.14.1)\n",
      "Requirement already satisfied: numpy in ./env/lib/python3.11/site-packages (from milvus-model>=0.1.0->pymilvus[model]) (1.26.4)\n",
      "Requirement already satisfied: python-dateutil>=2.8.2 in ./env/lib/python3.11/site-packages (from pandas>=1.2.4->pymilvus==2.4.5) (2.9.0.post0)\n",
      "Requirement already satisfied: pytz>=2020.1 in ./env/lib/python3.11/site-packages (from pandas>=1.2.4->pymilvus==2.4.5) (2024.2)\n",
      "Requirement already satisfied: tzdata>=2022.7 in ./env/lib/python3.11/site-packages (from pandas>=1.2.4->pymilvus==2.4.5) (2024.2)\n",
      "Requirement already satisfied: packaging>=17.0 in ./env/lib/python3.11/site-packages (from marshmallow>=3.0.0->environs<=9.5.0->pymilvus==2.4.5) (24.1)\n",
      "Requirement already satisfied: six>=1.5 in ./env/lib/python3.11/site-packages (from python-dateutil>=2.8.2->pandas>=1.2.4->pymilvus==2.4.5) (1.16.0)\n",
      "Requirement already satisfied: filelock in ./env/lib/python3.11/site-packages (from transformers>=4.36.0->milvus-model>=0.1.0->pymilvus[model]) (3.16.1)\n",
      "Requirement already satisfied: huggingface-hub<1.0,>=0.23.2 in ./env/lib/python3.11/site-packages (from transformers>=4.36.0->milvus-model>=0.1.0->pymilvus[model]) (0.25.1)\n",
      "Requirement already satisfied: pyyaml>=5.1 in ./env/lib/python3.11/site-packages (from transformers>=4.36.0->milvus-model>=0.1.0->pymilvus[model]) (6.0.2)\n",
      "Requirement already satisfied: regex!=2019.12.17 in ./env/lib/python3.11/site-packages (from transformers>=4.36.0->milvus-model>=0.1.0->pymilvus[model]) (2024.9.11)\n",
      "Requirement already satisfied: requests in ./env/lib/python3.11/site-packages (from transformers>=4.36.0->milvus-model>=0.1.0->pymilvus[model]) (2.32.3)\n",
      "Requirement already satisfied: safetensors>=0.4.1 in ./env/lib/python3.11/site-packages (from transformers>=4.36.0->milvus-model>=0.1.0->pymilvus[model]) (0.4.5)\n",
      "Requirement already satisfied: tokenizers<0.21,>=0.20 in ./env/lib/python3.11/site-packages (from transformers>=4.36.0->milvus-model>=0.1.0->pymilvus[model]) (0.20.0)\n",
      "Requirement already satisfied: coloredlogs in ./env/lib/python3.11/site-packages (from onnxruntime->milvus-model>=0.1.0->pymilvus[model]) (15.0.1)\n",
      "Requirement already satisfied: flatbuffers in ./env/lib/python3.11/site-packages (from onnxruntime->milvus-model>=0.1.0->pymilvus[model]) (24.3.25)\n",
      "Requirement already satisfied: sympy in ./env/lib/python3.11/site-packages (from onnxruntime->milvus-model>=0.1.0->pymilvus[model]) (1.13.3)\n",
      "Requirement already satisfied: fsspec>=2023.5.0 in ./env/lib/python3.11/site-packages (from huggingface-hub<1.0,>=0.23.2->transformers>=4.36.0->milvus-model>=0.1.0->pymilvus[model]) (2024.6.1)\n",
      "Requirement already satisfied: typing-extensions>=3.7.4.3 in ./env/lib/python3.11/site-packages (from huggingface-hub<1.0,>=0.23.2->transformers>=4.36.0->milvus-model>=0.1.0->pymilvus[model]) (4.12.2)\n",
      "Requirement already satisfied: humanfriendly>=9.1 in ./env/lib/python3.11/site-packages (from coloredlogs->onnxruntime->milvus-model>=0.1.0->pymilvus[model]) (10.0)\n",
      "Requirement already satisfied: charset-normalizer<4,>=2 in ./env/lib/python3.11/site-packages (from requests->transformers>=4.36.0->milvus-model>=0.1.0->pymilvus[model]) (3.3.2)\n",
      "Requirement already satisfied: idna<4,>=2.5 in ./env/lib/python3.11/site-packages (from requests->transformers>=4.36.0->milvus-model>=0.1.0->pymilvus[model]) (3.10)\n",
      "Requirement already satisfied: urllib3<3,>=1.21.1 in ./env/lib/python3.11/site-packages (from requests->transformers>=4.36.0->milvus-model>=0.1.0->pymilvus[model]) (2.2.3)\n",
      "Requirement already satisfied: certifi>=2017.4.17 in ./env/lib/python3.11/site-packages (from requests->transformers>=4.36.0->milvus-model>=0.1.0->pymilvus[model]) (2024.8.30)\n",
      "Requirement already satisfied: mpmath<1.4,>=1.1.0 in ./env/lib/python3.11/site-packages (from sympy->onnxruntime->milvus-model>=0.1.0->pymilvus[model]) (1.3.0)\n",
      "Using cached pymilvus-2.4.5-py3-none-any.whl (197 kB)\n",
      "Installing collected packages: pymilvus\n",
      "  Attempting uninstall: pymilvus\n",
      "    Found existing installation: pymilvus 2.4.7\n",
      "    Uninstalling pymilvus-2.4.7:\n",
      "      Successfully uninstalled pymilvus-2.4.7\n",
      "Successfully installed pymilvus-2.4.5\n"
     ]
    }
   ],
   "source": [
    "!pip install --upgrade pymilvus==2.4.5 \"pymilvus[model]\""
   ]
  },
  {
   "cell_type": "code",
   "execution_count": 2,
   "id": "e2b33879-068b-4e26-82e7-b97e26343f9d",
   "metadata": {},
   "outputs": [
    {
     "name": "stdout",
     "output_type": "stream",
     "text": [
      "ERROR: unknown command \"remove\"\n"
     ]
    }
   ],
   "source": [
    "!pip remove pymilvus"
   ]
  },
  {
   "cell_type": "code",
   "execution_count": 3,
   "id": "52bacc95-3955-4bb5-bfbd-795ddee6c473",
   "metadata": {},
   "outputs": [
    {
     "name": "stdout",
     "output_type": "stream",
     "text": [
      "pymilvus==2.4.5\n"
     ]
    }
   ],
   "source": [
    "!pip freeze | grep pymilvus"
   ]
  },
  {
   "cell_type": "code",
   "execution_count": 4,
   "id": "70314566-fb23-4b59-8e3a-742e2e1bb048",
   "metadata": {},
   "outputs": [
    {
     "name": "stdout",
     "output_type": "stream",
     "text": [
      "Requirement already satisfied: pymilvus in ./env/lib/python3.11/site-packages (2.4.5)\n",
      "Collecting pymilvus\n",
      "  Using cached pymilvus-2.4.7-py3-none-any.whl.metadata (5.6 kB)\n",
      "Requirement already satisfied: setuptools>69 in ./env/lib/python3.11/site-packages (from pymilvus) (75.1.0)\n",
      "Requirement already satisfied: grpcio>=1.49.1 in ./env/lib/python3.11/site-packages (from pymilvus) (1.63.0)\n",
      "Requirement already satisfied: protobuf>=3.20.0 in ./env/lib/python3.11/site-packages (from pymilvus) (4.25.5)\n",
      "Requirement already satisfied: environs<=9.5.0 in ./env/lib/python3.11/site-packages (from pymilvus) (9.5.0)\n",
      "Requirement already satisfied: ujson>=2.0.0 in ./env/lib/python3.11/site-packages (from pymilvus) (5.10.0)\n",
      "Requirement already satisfied: pandas>=1.2.4 in ./env/lib/python3.11/site-packages (from pymilvus) (2.2.3)\n",
      "Requirement already satisfied: milvus-lite<2.5.0,>=2.4.0 in ./env/lib/python3.11/site-packages (from pymilvus) (2.4.10)\n",
      "Requirement already satisfied: marshmallow>=3.0.0 in ./env/lib/python3.11/site-packages (from environs<=9.5.0->pymilvus) (3.22.0)\n",
      "Requirement already satisfied: python-dotenv in ./env/lib/python3.11/site-packages (from environs<=9.5.0->pymilvus) (1.0.1)\n",
      "Requirement already satisfied: tqdm in ./env/lib/python3.11/site-packages (from milvus-lite<2.5.0,>=2.4.0->pymilvus) (4.66.5)\n",
      "Requirement already satisfied: numpy>=1.23.2 in ./env/lib/python3.11/site-packages (from pandas>=1.2.4->pymilvus) (1.26.4)\n",
      "Requirement already satisfied: python-dateutil>=2.8.2 in ./env/lib/python3.11/site-packages (from pandas>=1.2.4->pymilvus) (2.9.0.post0)\n",
      "Requirement already satisfied: pytz>=2020.1 in ./env/lib/python3.11/site-packages (from pandas>=1.2.4->pymilvus) (2024.2)\n",
      "Requirement already satisfied: tzdata>=2022.7 in ./env/lib/python3.11/site-packages (from pandas>=1.2.4->pymilvus) (2024.2)\n",
      "Requirement already satisfied: packaging>=17.0 in ./env/lib/python3.11/site-packages (from marshmallow>=3.0.0->environs<=9.5.0->pymilvus) (24.1)\n",
      "Requirement already satisfied: six>=1.5 in ./env/lib/python3.11/site-packages (from python-dateutil>=2.8.2->pandas>=1.2.4->pymilvus) (1.16.0)\n",
      "Using cached pymilvus-2.4.7-py3-none-any.whl (198 kB)\n",
      "Installing collected packages: pymilvus\n",
      "  Attempting uninstall: pymilvus\n",
      "    Found existing installation: pymilvus 2.4.5\n",
      "    Uninstalling pymilvus-2.4.5:\n",
      "      Successfully uninstalled pymilvus-2.4.5\n",
      "Successfully installed pymilvus-2.4.7\n"
     ]
    }
   ],
   "source": [
    " !pip install -U pymilvus"
   ]
  },
  {
   "cell_type": "code",
   "execution_count": 5,
   "id": "0995488d-d4bd-489d-add7-be89075fca84",
   "metadata": {},
   "outputs": [],
   "source": [
    "import pandas as pd"
   ]
  },
  {
   "cell_type": "code",
   "execution_count": 6,
   "id": "69cc55e4-9ea2-4591-addb-02d075def842",
   "metadata": {},
   "outputs": [
    {
     "data": {
      "text/html": [
       "<div>\n",
       "<style scoped>\n",
       "    .dataframe tbody tr th:only-of-type {\n",
       "        vertical-align: middle;\n",
       "    }\n",
       "\n",
       "    .dataframe tbody tr th {\n",
       "        vertical-align: top;\n",
       "    }\n",
       "\n",
       "    .dataframe thead th {\n",
       "        text-align: right;\n",
       "    }\n",
       "</style>\n",
       "<table border=\"1\" class=\"dataframe\">\n",
       "  <thead>\n",
       "    <tr style=\"text-align: right;\">\n",
       "      <th></th>\n",
       "      <th>Unnamed: 0</th>\n",
       "      <th>reviewed claim</th>\n",
       "      <th>unverified claim</th>\n",
       "      <th>similarity</th>\n",
       "      <th>country</th>\n",
       "      <th>lang</th>\n",
       "      <th>author name</th>\n",
       "      <th>cr_item_reviewed_text</th>\n",
       "      <th>cr_image</th>\n",
       "      <th>local_image_path</th>\n",
       "      <th>claims</th>\n",
       "      <th>image_description</th>\n",
       "    </tr>\n",
       "  </thead>\n",
       "  <tbody>\n",
       "    <tr>\n",
       "      <th>0</th>\n",
       "      <td>0</td>\n",
       "      <td>reviewed claim: Dióxido de cloro ayuda a sanar...</td>\n",
       "      <td>unverified claim: El dióxido de cloro ayuda a ...</td>\n",
       "      <td>Both claims are similar</td>\n",
       "      <td>Mexico</td>\n",
       "      <td>es</td>\n",
       "      <td>AFP Factual</td>\n",
       "      <td>Dióxido de cloro ayuda a sanar esclerosis múlt...</td>\n",
       "      <td>https://factual.afp.com/sites/default/files/st...</td>\n",
       "      <td>NaN</td>\n",
       "      <td>reviewed claim: Dióxido de cloro ayuda a sanar...</td>\n",
       "      <td>NaN</td>\n",
       "    </tr>\n",
       "    <tr>\n",
       "      <th>1</th>\n",
       "      <td>1</td>\n",
       "      <td>reviewed claim: El dióxido de cloro tiene prop...</td>\n",
       "      <td>unverified claim: El dióxido de cloro ayuda a ...</td>\n",
       "      <td>Both claims are similar</td>\n",
       "      <td>Spain</td>\n",
       "      <td>es</td>\n",
       "      <td>Europa Press</td>\n",
       "      <td>El dióxido de cloro tiene propiedades curativas</td>\n",
       "      <td>https://img.europapress.es/fotoweb/fotonoticia...</td>\n",
       "      <td>cr_images/06700810-4374-73d2-8000-e477c442f105...</td>\n",
       "      <td>reviewed claim: El dióxido de cloro tiene prop...</td>\n",
       "      <td>The image depicts a laboratory setting where a...</td>\n",
       "    </tr>\n",
       "    <tr>\n",
       "      <th>2</th>\n",
       "      <td>2</td>\n",
       "      <td>reviewed claim: Centenas de pilotos de avião p...</td>\n",
       "      <td>unverified claim: Pilotos de aviación se manif...</td>\n",
       "      <td>Both claims are similar</td>\n",
       "      <td>Portugal</td>\n",
       "      <td>pt</td>\n",
       "      <td>Polígrafo - SAPO</td>\n",
       "      <td>Centenas de pilotos de avião protestam contra ...</td>\n",
       "      <td>https://thumbs.web.sapo.io/?W=1200&amp;H=630&amp;delay...</td>\n",
       "      <td>cr_images/06700810-4e14-75a7-8000-56f45415027b</td>\n",
       "      <td>reviewed claim: Centenas de pilotos de avião p...</td>\n",
       "      <td>The image depicts a group of airline pilots st...</td>\n",
       "    </tr>\n",
       "    <tr>\n",
       "      <th>3</th>\n",
       "      <td>3</td>\n",
       "      <td>reviewed claim: Delta Pilots In Video Were Pro...</td>\n",
       "      <td>unverified claim: Pilotos de aviación se manif...</td>\n",
       "      <td>Both claims are similar</td>\n",
       "      <td>United States</td>\n",
       "      <td>en</td>\n",
       "      <td>Lead Stories</td>\n",
       "      <td>Delta Pilots In Video Were Protesting COVID-19...</td>\n",
       "      <td>https://leadstories.com/caption_3479196.jpg</td>\n",
       "      <td>cr_images/06700810-5781-71ed-8000-140fe51b8d46...</td>\n",
       "      <td>reviewed claim: Delta Pilots In Video Were Pro...</td>\n",
       "      <td>The image depicts a scene of a protest, likely...</td>\n",
       "    </tr>\n",
       "    <tr>\n",
       "      <th>4</th>\n",
       "      <td>4</td>\n",
       "      <td>reviewed claim: Des pilotes de Delta Airlines ...</td>\n",
       "      <td>unverified claim: Pilotos de aviación se manif...</td>\n",
       "      <td>Both claims are similar</td>\n",
       "      <td>France</td>\n",
       "      <td>fr</td>\n",
       "      <td>AFP Factuel</td>\n",
       "      <td>Des pilotes de Delta Airlines manifestent cont...</td>\n",
       "      <td>https://factuel.afp.com/sites/default/files/st...</td>\n",
       "      <td>NaN</td>\n",
       "      <td>reviewed claim: Des pilotes de Delta Airlines ...</td>\n",
       "      <td>NaN</td>\n",
       "    </tr>\n",
       "    <tr>\n",
       "      <th>...</th>\n",
       "      <td>...</td>\n",
       "      <td>...</td>\n",
       "      <td>...</td>\n",
       "      <td>...</td>\n",
       "      <td>...</td>\n",
       "      <td>...</td>\n",
       "      <td>...</td>\n",
       "      <td>...</td>\n",
       "      <td>...</td>\n",
       "      <td>...</td>\n",
       "      <td>...</td>\n",
       "      <td>...</td>\n",
       "    </tr>\n",
       "    <tr>\n",
       "      <th>3863</th>\n",
       "      <td>3863</td>\n",
       "      <td>reviewed claim: “Mejores salarios, menos impue...</td>\n",
       "      <td>unverified claim: el 50% del deposito de cualq...</td>\n",
       "      <td>Claims are not similar</td>\n",
       "      <td>Mexico</td>\n",
       "      <td>es</td>\n",
       "      <td>AFP Factual</td>\n",
       "      <td>“Mejores salarios, menos impuestos\", dice vall...</td>\n",
       "      <td>https://factual.afp.com/sites/default/files/st...</td>\n",
       "      <td>NaN</td>\n",
       "      <td>reviewed claim: “Mejores salarios, menos impue...</td>\n",
       "      <td>NaN</td>\n",
       "    </tr>\n",
       "    <tr>\n",
       "      <th>3864</th>\n",
       "      <td>3864</td>\n",
       "      <td>reviewed claim: Video muestra el robo de un ve...</td>\n",
       "      <td>unverified claim: el 50% del deposito de cualq...</td>\n",
       "      <td>Claims are not similar</td>\n",
       "      <td>Mexico</td>\n",
       "      <td>es</td>\n",
       "      <td>AFP Factual</td>\n",
       "      <td>Video muestra el robo de un vehículo en Quito</td>\n",
       "      <td>https://factual.afp.com/sites/default/files/st...</td>\n",
       "      <td>NaN</td>\n",
       "      <td>reviewed claim: Video muestra el robo de un ve...</td>\n",
       "      <td>NaN</td>\n",
       "    </tr>\n",
       "    <tr>\n",
       "      <th>3865</th>\n",
       "      <td>3865</td>\n",
       "      <td>reviewed claim: Si ganas un dólar al año, paga...</td>\n",
       "      <td>unverified claim: el 50% del deposito de cualq...</td>\n",
       "      <td>Claims are not similar</td>\n",
       "      <td>Mexico</td>\n",
       "      <td>es</td>\n",
       "      <td>AFP Factual</td>\n",
       "      <td>Si ganas un dólar al año, pagas 60 dólares de ...</td>\n",
       "      <td>https://factual.afp.com/sites/default/files/st...</td>\n",
       "      <td>NaN</td>\n",
       "      <td>reviewed claim: Si ganas un dólar al año, paga...</td>\n",
       "      <td>NaN</td>\n",
       "    </tr>\n",
       "    <tr>\n",
       "      <th>3866</th>\n",
       "      <td>3866</td>\n",
       "      <td>reviewed claim: “Somos el país que más ha incr...</td>\n",
       "      <td>unverified claim: el 50% del deposito de cualq...</td>\n",
       "      <td>Claims are not similar</td>\n",
       "      <td>NaN</td>\n",
       "      <td>es</td>\n",
       "      <td>Newtral</td>\n",
       "      <td>“Somos el país que más ha incrementado los imp...</td>\n",
       "      <td>NaN</td>\n",
       "      <td>NaN</td>\n",
       "      <td>reviewed claim: “Somos el país que más ha incr...</td>\n",
       "      <td>NaN</td>\n",
       "    </tr>\n",
       "    <tr>\n",
       "      <th>3867</th>\n",
       "      <td>3867</td>\n",
       "      <td>reviewed claim: Petor dijo que las iglesias de...</td>\n",
       "      <td>unverified claim: el 50% del deposito de cualq...</td>\n",
       "      <td>Claims are not similar</td>\n",
       "      <td>Colombia</td>\n",
       "      <td>es</td>\n",
       "      <td>ColombiaCheck</td>\n",
       "      <td>Petor dijo que las iglesias deben tener contro...</td>\n",
       "      <td>https://colombiacheck.s3.us-east-2.amazonaws.c...</td>\n",
       "      <td>cr_images/0670085c-6fa5-7d45-8000-d3f4fc444776...</td>\n",
       "      <td>reviewed claim: Petor dijo que las iglesias de...</td>\n",
       "      <td>The image features a prominent figure, likely ...</td>\n",
       "    </tr>\n",
       "  </tbody>\n",
       "</table>\n",
       "<p>3868 rows × 12 columns</p>\n",
       "</div>"
      ],
      "text/plain": [
       "      Unnamed: 0                                     reviewed claim  \\\n",
       "0              0  reviewed claim: Dióxido de cloro ayuda a sanar...   \n",
       "1              1  reviewed claim: El dióxido de cloro tiene prop...   \n",
       "2              2  reviewed claim: Centenas de pilotos de avião p...   \n",
       "3              3  reviewed claim: Delta Pilots In Video Were Pro...   \n",
       "4              4  reviewed claim: Des pilotes de Delta Airlines ...   \n",
       "...          ...                                                ...   \n",
       "3863        3863  reviewed claim: “Mejores salarios, menos impue...   \n",
       "3864        3864  reviewed claim: Video muestra el robo de un ve...   \n",
       "3865        3865  reviewed claim: Si ganas un dólar al año, paga...   \n",
       "3866        3866  reviewed claim: “Somos el país que más ha incr...   \n",
       "3867        3867  reviewed claim: Petor dijo que las iglesias de...   \n",
       "\n",
       "                                       unverified claim  \\\n",
       "0     unverified claim: El dióxido de cloro ayuda a ...   \n",
       "1     unverified claim: El dióxido de cloro ayuda a ...   \n",
       "2     unverified claim: Pilotos de aviación se manif...   \n",
       "3     unverified claim: Pilotos de aviación se manif...   \n",
       "4     unverified claim: Pilotos de aviación se manif...   \n",
       "...                                                 ...   \n",
       "3863  unverified claim: el 50% del deposito de cualq...   \n",
       "3864  unverified claim: el 50% del deposito de cualq...   \n",
       "3865  unverified claim: el 50% del deposito de cualq...   \n",
       "3866  unverified claim: el 50% del deposito de cualq...   \n",
       "3867  unverified claim: el 50% del deposito de cualq...   \n",
       "\n",
       "                   similarity        country lang       author name  \\\n",
       "0     Both claims are similar         Mexico   es       AFP Factual   \n",
       "1     Both claims are similar          Spain   es      Europa Press   \n",
       "2     Both claims are similar       Portugal   pt  Polígrafo - SAPO   \n",
       "3     Both claims are similar  United States   en      Lead Stories   \n",
       "4     Both claims are similar         France   fr       AFP Factuel   \n",
       "...                       ...            ...  ...               ...   \n",
       "3863   Claims are not similar         Mexico   es       AFP Factual   \n",
       "3864   Claims are not similar         Mexico   es       AFP Factual   \n",
       "3865   Claims are not similar         Mexico   es       AFP Factual   \n",
       "3866   Claims are not similar            NaN   es           Newtral   \n",
       "3867   Claims are not similar       Colombia   es     ColombiaCheck   \n",
       "\n",
       "                                  cr_item_reviewed_text  \\\n",
       "0     Dióxido de cloro ayuda a sanar esclerosis múlt...   \n",
       "1       El dióxido de cloro tiene propiedades curativas   \n",
       "2     Centenas de pilotos de avião protestam contra ...   \n",
       "3     Delta Pilots In Video Were Protesting COVID-19...   \n",
       "4     Des pilotes de Delta Airlines manifestent cont...   \n",
       "...                                                 ...   \n",
       "3863  “Mejores salarios, menos impuestos\", dice vall...   \n",
       "3864      Video muestra el robo de un vehículo en Quito   \n",
       "3865  Si ganas un dólar al año, pagas 60 dólares de ...   \n",
       "3866  “Somos el país que más ha incrementado los imp...   \n",
       "3867  Petor dijo que las iglesias deben tener contro...   \n",
       "\n",
       "                                               cr_image  \\\n",
       "0     https://factual.afp.com/sites/default/files/st...   \n",
       "1     https://img.europapress.es/fotoweb/fotonoticia...   \n",
       "2     https://thumbs.web.sapo.io/?W=1200&H=630&delay...   \n",
       "3           https://leadstories.com/caption_3479196.jpg   \n",
       "4     https://factuel.afp.com/sites/default/files/st...   \n",
       "...                                                 ...   \n",
       "3863  https://factual.afp.com/sites/default/files/st...   \n",
       "3864  https://factual.afp.com/sites/default/files/st...   \n",
       "3865  https://factual.afp.com/sites/default/files/st...   \n",
       "3866                                                NaN   \n",
       "3867  https://colombiacheck.s3.us-east-2.amazonaws.c...   \n",
       "\n",
       "                                       local_image_path  \\\n",
       "0                                                   NaN   \n",
       "1     cr_images/06700810-4374-73d2-8000-e477c442f105...   \n",
       "2        cr_images/06700810-4e14-75a7-8000-56f45415027b   \n",
       "3     cr_images/06700810-5781-71ed-8000-140fe51b8d46...   \n",
       "4                                                   NaN   \n",
       "...                                                 ...   \n",
       "3863                                                NaN   \n",
       "3864                                                NaN   \n",
       "3865                                                NaN   \n",
       "3866                                                NaN   \n",
       "3867  cr_images/0670085c-6fa5-7d45-8000-d3f4fc444776...   \n",
       "\n",
       "                                                 claims  \\\n",
       "0     reviewed claim: Dióxido de cloro ayuda a sanar...   \n",
       "1     reviewed claim: El dióxido de cloro tiene prop...   \n",
       "2     reviewed claim: Centenas de pilotos de avião p...   \n",
       "3     reviewed claim: Delta Pilots In Video Were Pro...   \n",
       "4     reviewed claim: Des pilotes de Delta Airlines ...   \n",
       "...                                                 ...   \n",
       "3863  reviewed claim: “Mejores salarios, menos impue...   \n",
       "3864  reviewed claim: Video muestra el robo de un ve...   \n",
       "3865  reviewed claim: Si ganas un dólar al año, paga...   \n",
       "3866  reviewed claim: “Somos el país que más ha incr...   \n",
       "3867  reviewed claim: Petor dijo que las iglesias de...   \n",
       "\n",
       "                                      image_description  \n",
       "0                                                   NaN  \n",
       "1     The image depicts a laboratory setting where a...  \n",
       "2     The image depicts a group of airline pilots st...  \n",
       "3     The image depicts a scene of a protest, likely...  \n",
       "4                                                   NaN  \n",
       "...                                                 ...  \n",
       "3863                                                NaN  \n",
       "3864                                                NaN  \n",
       "3865                                                NaN  \n",
       "3866                                                NaN  \n",
       "3867  The image features a prominent figure, likely ...  \n",
       "\n",
       "[3868 rows x 12 columns]"
      ]
     },
     "execution_count": 6,
     "metadata": {},
     "output_type": "execute_result"
    }
   ],
   "source": [
    "data = pd.read_csv('data_with_image_descriptions.csv')\n",
    "\n",
    "data"
   ]
  },
  {
   "cell_type": "code",
   "execution_count": 7,
   "id": "b4322f57-c07e-47ca-a65b-f4b0e8ff6577",
   "metadata": {},
   "outputs": [
    {
     "data": {
      "text/plain": [
       "local_image_path\n",
       "False    2011\n",
       "True     1857\n",
       "Name: count, dtype: int64"
      ]
     },
     "execution_count": 7,
     "metadata": {},
     "output_type": "execute_result"
    }
   ],
   "source": [
    "data['local_image_path'].fillna('').apply(lambda x: len(x) > 0).value_counts()"
   ]
  },
  {
   "cell_type": "code",
   "execution_count": 8,
   "id": "75c1f442-a698-4528-a36c-2404d74c4bae",
   "metadata": {},
   "outputs": [
    {
     "data": {
      "text/plain": [
       "image_description\n",
       "False    2022\n",
       "True     1846\n",
       "Name: count, dtype: int64"
      ]
     },
     "execution_count": 8,
     "metadata": {},
     "output_type": "execute_result"
    }
   ],
   "source": [
    "data['image_description'].fillna('').apply(lambda x: len(x) > 0).value_counts()"
   ]
  },
  {
   "cell_type": "code",
   "execution_count": 9,
   "id": "1d72b984-8a2a-499b-bae0-0aa1a6b63b3e",
   "metadata": {},
   "outputs": [
    {
     "data": {
      "text/plain": [
       "'The image features a split-screen composition. On the left side, a news anchor, presumably Anderson Cooper, is seen delivering a news segment. He has a serious expression and is dressed in a dark suit with a light-colored shirt. The background is a blurred newsroom setting, suggesting a live broadcast.\\n\\nOn the right side of the image, there is a close-up of a person\\'s arm, which appears to show signs of distress or a medical condition, possibly related to myocarditis. The skin tone is light, and the arm is partially obscured, focusing on the area that seems affected.\\n\\nOverlaying the entire image is a bold, red \"FAKE\" stamp, indicating that the information being presented may be misleading or false. The text at the bottom of the image reads \"BREAKING NEWS\" and includes a headline stating \"UKRAINE INVASION CAUSING MYOCARDITIS,\" along with a timestamp indicating it is live news.\\n\\nThe overall tone of the image suggests a critical examination of the news being reported, emphasizing the potential for misinformation. The contrasting elements of the news anchor and the medical imagery create a sense of urgency and concern regarding the topic being discussed.'"
      ]
     },
     "execution_count": 9,
     "metadata": {},
     "output_type": "execute_result"
    }
   ],
   "source": [
    "data['image_description'][11]"
   ]
  },
  {
   "cell_type": "code",
   "execution_count": null,
   "id": "3deb23fb-bf05-48e7-8dec-9704b7d4b1a0",
   "metadata": {},
   "outputs": [],
   "source": []
  },
  {
   "cell_type": "code",
   "execution_count": 11,
   "id": "78f59821",
   "metadata": {},
   "outputs": [],
   "source": []
  },
  {
   "cell_type": "code",
   "execution_count": 10,
   "id": "aeefa6fa-6a2c-41c3-ad3c-350696caebf2",
   "metadata": {},
   "outputs": [],
   "source": [
    "data['image_description'] = data['image_description'].fillna('').apply(lambda x: 'Related Image: '+x if len(x) > 1 else '')\n",
    "data['text'] = data['claims'] + '\\n' + data['similarity'] + data['image_description']"
   ]
  },
  {
   "cell_type": "code",
   "execution_count": 11,
   "id": "29b6b0b4",
   "metadata": {},
   "outputs": [],
   "source": [
    "data = data[data['text'].fillna('').apply(len) > 1]\n",
    "country_list = data['country'].fillna(\"Unknown\")\n",
    "author_name_list = data['author name'].fillna(\"Unknown\")\n",
    "image_paths_list = list(data['local_image_path'].fillna(''))\n"
   ]
  },
  {
   "cell_type": "code",
   "execution_count": 12,
   "id": "4d1f6e6d-d23d-4849-825c-23fd6cd71f23",
   "metadata": {},
   "outputs": [
    {
     "name": "stdout",
     "output_type": "stream",
     "text": [
      "reviewed claim: Dióxido de cloro ayuda a sanar esclerosis múltiple, ela y otras patologías\n",
      "unverified claim: El dióxido de cloro ayuda a sanar la esclerósis múltiple\n",
      "Both claims are similar\n"
     ]
    }
   ],
   "source": [
    "print(data['text'][0])\n"
   ]
  },
  {
   "cell_type": "code",
   "execution_count": 13,
   "id": "2ef8c0d9-1d80-4859-b3b1-88e7b4ba67d5",
   "metadata": {},
   "outputs": [
    {
     "data": {
      "text/plain": [
       "['reviewed claim: Dióxido de cloro ayuda a sanar esclerosis múltiple, ela y otras patologías\\nunverified claim: El dióxido de cloro ayuda a sanar la esclerósis múltiple\\nBoth claims are similar',\n",
       " \"reviewed claim: El dióxido de cloro tiene propiedades curativas\\nunverified claim: El dióxido de cloro ayuda a sanar la esclerósis múltiple\\nBoth claims are similarRelated Image: The image depicts a laboratory setting where a scientist is engaged in an experiment. The main focus is on a male scientist, who is wearing protective gear, including safety goggles, a face mask, and blue gloves. He is intently looking at a pipette as he prepares to add a liquid to a series of test tubes arranged in a rack in front of him.\\n\\nThe background features a blurred laboratory environment, suggesting a professional and sterile atmosphere. The test tubes contain various colored liquids, predominantly shades of blue, green, and purple, indicating different chemical substances. The scientist's concentration is evident as he carefully controls the pipette, highlighting the precision required in scientific work.\\n\\nIn the foreground, several flasks and beakers are visible, each containing liquids of different colors, contributing to the vibrant and dynamic feel of the scene. The overall composition emphasizes the meticulous nature of laboratory work, showcasing both the equipment and the scientist's focused demeanor.\",\n",
       " 'reviewed claim: Centenas de pilotos de avião protestam contra vacinas Covid-19 no aeroporto de Atlanta.\\nunverified claim: Pilotos de aviación se manifiestan en un aeropuerto en contra a la vacunación obligatoria contra el covid-19\\nBoth claims are similarRelated Image: The image depicts a group of airline pilots standing in a line, likely participating in a protest or demonstration. They are dressed in formal pilot uniforms, which typically include white shirts, ties, and dark trousers. Many of the pilots are wearing green and blue lanyards, possibly indicating their affiliation with a union or organization.\\n\\nEach pilot is holding a sign that conveys messages related to their demands, such as calls for a new contract or better working conditions. The signs are colorful and feature bold text, emphasizing their demands for industry-leading contracts and readiness to strike if necessary.\\n\\nThe setting appears to be outdoors, likely at an airport or a similar location, with a clear blue sky overhead. The background includes a structure that suggests an airport terminal or a similar facility. The composition of the image highlights the solidarity among the pilots, as they stand together in a unified stance, facing the camera. The overall atmosphere conveys a sense of determination and collective action.']"
      ]
     },
     "execution_count": 13,
     "metadata": {},
     "output_type": "execute_result"
    }
   ],
   "source": [
    "docs = list(data['text'])\n",
    "docs[:3]"
   ]
  },
  {
   "cell_type": "code",
   "execution_count": 14,
   "id": "df9806e5-b6db-42b3-9c36-a93f5889ce5b",
   "metadata": {},
   "outputs": [
    {
     "data": {
      "text/plain": [
       "<Axes: ylabel='Frequency'>"
      ]
     },
     "execution_count": 14,
     "metadata": {},
     "output_type": "execute_result"
    },
    {
     "data": {
      "image/png": "[encoded data removed]",
      "text/plain": [
       "<Figure size 640x480 with 1 Axes>"
      ]
     },
     "metadata": {},
     "output_type": "display_data"
    }
   ],
   "source": [
    "data['text'].apply(len).plot.hist()"
   ]
  },
  {
   "cell_type": "code",
   "execution_count": 15,
   "id": "af5a3f63",
   "metadata": {},
   "outputs": [
    {
     "name": "stderr",
     "output_type": "stream",
     "text": [
      "Using cache found in /home/dreiriz/.cache/torch/hub/pytorch_vision_v0.10.0\n"
     ]
    },
    {
     "data": {
      "text/plain": [
       "Sequential(\n",
       "  (0): Conv2d(3, 64, kernel_size=(7, 7), stride=(2, 2), padding=(3, 3), bias=False)\n",
       "  (1): BatchNorm2d(64, eps=1e-05, momentum=0.1, affine=True, track_running_stats=True)\n",
       "  (2): ReLU(inplace=True)\n",
       "  (3): MaxPool2d(kernel_size=3, stride=2, padding=1, dilation=1, ceil_mode=False)\n",
       "  (4): Sequential(\n",
       "    (0): Bottleneck(\n",
       "      (conv1): Conv2d(64, 64, kernel_size=(1, 1), stride=(1, 1), bias=False)\n",
       "      (bn1): BatchNorm2d(64, eps=1e-05, momentum=0.1, affine=True, track_running_stats=True)\n",
       "      (conv2): Conv2d(64, 64, kernel_size=(3, 3), stride=(1, 1), padding=(1, 1), bias=False)\n",
       "      (bn2): BatchNorm2d(64, eps=1e-05, momentum=0.1, affine=True, track_running_stats=True)\n",
       "      (conv3): Conv2d(64, 256, kernel_size=(1, 1), stride=(1, 1), bias=False)\n",
       "      (bn3): BatchNorm2d(256, eps=1e-05, momentum=0.1, affine=True, track_running_stats=True)\n",
       "      (relu): ReLU(inplace=True)\n",
       "      (downsample): Sequential(\n",
       "        (0): Conv2d(64, 256, kernel_size=(1, 1), stride=(1, 1), bias=False)\n",
       "        (1): BatchNorm2d(256, eps=1e-05, momentum=0.1, affine=True, track_running_stats=True)\n",
       "      )\n",
       "    )\n",
       "    (1): Bottleneck(\n",
       "      (conv1): Conv2d(256, 64, kernel_size=(1, 1), stride=(1, 1), bias=False)\n",
       "      (bn1): BatchNorm2d(64, eps=1e-05, momentum=0.1, affine=True, track_running_stats=True)\n",
       "      (conv2): Conv2d(64, 64, kernel_size=(3, 3), stride=(1, 1), padding=(1, 1), bias=False)\n",
       "      (bn2): BatchNorm2d(64, eps=1e-05, momentum=0.1, affine=True, track_running_stats=True)\n",
       "      (conv3): Conv2d(64, 256, kernel_size=(1, 1), stride=(1, 1), bias=False)\n",
       "      (bn3): BatchNorm2d(256, eps=1e-05, momentum=0.1, affine=True, track_running_stats=True)\n",
       "      (relu): ReLU(inplace=True)\n",
       "    )\n",
       "    (2): Bottleneck(\n",
       "      (conv1): Conv2d(256, 64, kernel_size=(1, 1), stride=(1, 1), bias=False)\n",
       "      (bn1): BatchNorm2d(64, eps=1e-05, momentum=0.1, affine=True, track_running_stats=True)\n",
       "      (conv2): Conv2d(64, 64, kernel_size=(3, 3), stride=(1, 1), padding=(1, 1), bias=False)\n",
       "      (bn2): BatchNorm2d(64, eps=1e-05, momentum=0.1, affine=True, track_running_stats=True)\n",
       "      (conv3): Conv2d(64, 256, kernel_size=(1, 1), stride=(1, 1), bias=False)\n",
       "      (bn3): BatchNorm2d(256, eps=1e-05, momentum=0.1, affine=True, track_running_stats=True)\n",
       "      (relu): ReLU(inplace=True)\n",
       "    )\n",
       "  )\n",
       "  (5): Sequential(\n",
       "    (0): Bottleneck(\n",
       "      (conv1): Conv2d(256, 128, kernel_size=(1, 1), stride=(1, 1), bias=False)\n",
       "      (bn1): BatchNorm2d(128, eps=1e-05, momentum=0.1, affine=True, track_running_stats=True)\n",
       "      (conv2): Conv2d(128, 128, kernel_size=(3, 3), stride=(2, 2), padding=(1, 1), bias=False)\n",
       "      (bn2): BatchNorm2d(128, eps=1e-05, momentum=0.1, affine=True, track_running_stats=True)\n",
       "      (conv3): Conv2d(128, 512, kernel_size=(1, 1), stride=(1, 1), bias=False)\n",
       "      (bn3): BatchNorm2d(512, eps=1e-05, momentum=0.1, affine=True, track_running_stats=True)\n",
       "      (relu): ReLU(inplace=True)\n",
       "      (downsample): Sequential(\n",
       "        (0): Conv2d(256, 512, kernel_size=(1, 1), stride=(2, 2), bias=False)\n",
       "        (1): BatchNorm2d(512, eps=1e-05, momentum=0.1, affine=True, track_running_stats=True)\n",
       "      )\n",
       "    )\n",
       "    (1): Bottleneck(\n",
       "      (conv1): Conv2d(512, 128, kernel_size=(1, 1), stride=(1, 1), bias=False)\n",
       "      (bn1): BatchNorm2d(128, eps=1e-05, momentum=0.1, affine=True, track_running_stats=True)\n",
       "      (conv2): Conv2d(128, 128, kernel_size=(3, 3), stride=(1, 1), padding=(1, 1), bias=False)\n",
       "      (bn2): BatchNorm2d(128, eps=1e-05, momentum=0.1, affine=True, track_running_stats=True)\n",
       "      (conv3): Conv2d(128, 512, kernel_size=(1, 1), stride=(1, 1), bias=False)\n",
       "      (bn3): BatchNorm2d(512, eps=1e-05, momentum=0.1, affine=True, track_running_stats=True)\n",
       "      (relu): ReLU(inplace=True)\n",
       "    )\n",
       "    (2): Bottleneck(\n",
       "      (conv1): Conv2d(512, 128, kernel_size=(1, 1), stride=(1, 1), bias=False)\n",
       "      (bn1): BatchNorm2d(128, eps=1e-05, momentum=0.1, affine=True, track_running_stats=True)\n",
       "      (conv2): Conv2d(128, 128, kernel_size=(3, 3), stride=(1, 1), padding=(1, 1), bias=False)\n",
       "      (bn2): BatchNorm2d(128, eps=1e-05, momentum=0.1, affine=True, track_running_stats=True)\n",
       "      (conv3): Conv2d(128, 512, kernel_size=(1, 1), stride=(1, 1), bias=False)\n",
       "      (bn3): BatchNorm2d(512, eps=1e-05, momentum=0.1, affine=True, track_running_stats=True)\n",
       "      (relu): ReLU(inplace=True)\n",
       "    )\n",
       "    (3): Bottleneck(\n",
       "      (conv1): Conv2d(512, 128, kernel_size=(1, 1), stride=(1, 1), bias=False)\n",
       "      (bn1): BatchNorm2d(128, eps=1e-05, momentum=0.1, affine=True, track_running_stats=True)\n",
       "      (conv2): Conv2d(128, 128, kernel_size=(3, 3), stride=(1, 1), padding=(1, 1), bias=False)\n",
       "      (bn2): BatchNorm2d(128, eps=1e-05, momentum=0.1, affine=True, track_running_stats=True)\n",
       "      (conv3): Conv2d(128, 512, kernel_size=(1, 1), stride=(1, 1), bias=False)\n",
       "      (bn3): BatchNorm2d(512, eps=1e-05, momentum=0.1, affine=True, track_running_stats=True)\n",
       "      (relu): ReLU(inplace=True)\n",
       "    )\n",
       "  )\n",
       "  (6): Sequential(\n",
       "    (0): Bottleneck(\n",
       "      (conv1): Conv2d(512, 256, kernel_size=(1, 1), stride=(1, 1), bias=False)\n",
       "      (bn1): BatchNorm2d(256, eps=1e-05, momentum=0.1, affine=True, track_running_stats=True)\n",
       "      (conv2): Conv2d(256, 256, kernel_size=(3, 3), stride=(2, 2), padding=(1, 1), bias=False)\n",
       "      (bn2): BatchNorm2d(256, eps=1e-05, momentum=0.1, affine=True, track_running_stats=True)\n",
       "      (conv3): Conv2d(256, 1024, kernel_size=(1, 1), stride=(1, 1), bias=False)\n",
       "      (bn3): BatchNorm2d(1024, eps=1e-05, momentum=0.1, affine=True, track_running_stats=True)\n",
       "      (relu): ReLU(inplace=True)\n",
       "      (downsample): Sequential(\n",
       "        (0): Conv2d(512, 1024, kernel_size=(1, 1), stride=(2, 2), bias=False)\n",
       "        (1): BatchNorm2d(1024, eps=1e-05, momentum=0.1, affine=True, track_running_stats=True)\n",
       "      )\n",
       "    )\n",
       "    (1): Bottleneck(\n",
       "      (conv1): Conv2d(1024, 256, kernel_size=(1, 1), stride=(1, 1), bias=False)\n",
       "      (bn1): BatchNorm2d(256, eps=1e-05, momentum=0.1, affine=True, track_running_stats=True)\n",
       "      (conv2): Conv2d(256, 256, kernel_size=(3, 3), stride=(1, 1), padding=(1, 1), bias=False)\n",
       "      (bn2): BatchNorm2d(256, eps=1e-05, momentum=0.1, affine=True, track_running_stats=True)\n",
       "      (conv3): Conv2d(256, 1024, kernel_size=(1, 1), stride=(1, 1), bias=False)\n",
       "      (bn3): BatchNorm2d(1024, eps=1e-05, momentum=0.1, affine=True, track_running_stats=True)\n",
       "      (relu): ReLU(inplace=True)\n",
       "    )\n",
       "    (2): Bottleneck(\n",
       "      (conv1): Conv2d(1024, 256, kernel_size=(1, 1), stride=(1, 1), bias=False)\n",
       "      (bn1): BatchNorm2d(256, eps=1e-05, momentum=0.1, affine=True, track_running_stats=True)\n",
       "      (conv2): Conv2d(256, 256, kernel_size=(3, 3), stride=(1, 1), padding=(1, 1), bias=False)\n",
       "      (bn2): BatchNorm2d(256, eps=1e-05, momentum=0.1, affine=True, track_running_stats=True)\n",
       "      (conv3): Conv2d(256, 1024, kernel_size=(1, 1), stride=(1, 1), bias=False)\n",
       "      (bn3): BatchNorm2d(1024, eps=1e-05, momentum=0.1, affine=True, track_running_stats=True)\n",
       "      (relu): ReLU(inplace=True)\n",
       "    )\n",
       "    (3): Bottleneck(\n",
       "      (conv1): Conv2d(1024, 256, kernel_size=(1, 1), stride=(1, 1), bias=False)\n",
       "      (bn1): BatchNorm2d(256, eps=1e-05, momentum=0.1, affine=True, track_running_stats=True)\n",
       "      (conv2): Conv2d(256, 256, kernel_size=(3, 3), stride=(1, 1), padding=(1, 1), bias=False)\n",
       "      (bn2): BatchNorm2d(256, eps=1e-05, momentum=0.1, affine=True, track_running_stats=True)\n",
       "      (conv3): Conv2d(256, 1024, kernel_size=(1, 1), stride=(1, 1), bias=False)\n",
       "      (bn3): BatchNorm2d(1024, eps=1e-05, momentum=0.1, affine=True, track_running_stats=True)\n",
       "      (relu): ReLU(inplace=True)\n",
       "    )\n",
       "    (4): Bottleneck(\n",
       "      (conv1): Conv2d(1024, 256, kernel_size=(1, 1), stride=(1, 1), bias=False)\n",
       "      (bn1): BatchNorm2d(256, eps=1e-05, momentum=0.1, affine=True, track_running_stats=True)\n",
       "      (conv2): Conv2d(256, 256, kernel_size=(3, 3), stride=(1, 1), padding=(1, 1), bias=False)\n",
       "      (bn2): BatchNorm2d(256, eps=1e-05, momentum=0.1, affine=True, track_running_stats=True)\n",
       "      (conv3): Conv2d(256, 1024, kernel_size=(1, 1), stride=(1, 1), bias=False)\n",
       "      (bn3): BatchNorm2d(1024, eps=1e-05, momentum=0.1, affine=True, track_running_stats=True)\n",
       "      (relu): ReLU(inplace=True)\n",
       "    )\n",
       "    (5): Bottleneck(\n",
       "      (conv1): Conv2d(1024, 256, kernel_size=(1, 1), stride=(1, 1), bias=False)\n",
       "      (bn1): BatchNorm2d(256, eps=1e-05, momentum=0.1, affine=True, track_running_stats=True)\n",
       "      (conv2): Conv2d(256, 256, kernel_size=(3, 3), stride=(1, 1), padding=(1, 1), bias=False)\n",
       "      (bn2): BatchNorm2d(256, eps=1e-05, momentum=0.1, affine=True, track_running_stats=True)\n",
       "      (conv3): Conv2d(256, 1024, kernel_size=(1, 1), stride=(1, 1), bias=False)\n",
       "      (bn3): BatchNorm2d(1024, eps=1e-05, momentum=0.1, affine=True, track_running_stats=True)\n",
       "      (relu): ReLU(inplace=True)\n",
       "    )\n",
       "  )\n",
       "  (7): Sequential(\n",
       "    (0): Bottleneck(\n",
       "      (conv1): Conv2d(1024, 512, kernel_size=(1, 1), stride=(1, 1), bias=False)\n",
       "      (bn1): BatchNorm2d(512, eps=1e-05, momentum=0.1, affine=True, track_running_stats=True)\n",
       "      (conv2): Conv2d(512, 512, kernel_size=(3, 3), stride=(2, 2), padding=(1, 1), bias=False)\n",
       "      (bn2): BatchNorm2d(512, eps=1e-05, momentum=0.1, affine=True, track_running_stats=True)\n",
       "      (conv3): Conv2d(512, 2048, kernel_size=(1, 1), stride=(1, 1), bias=False)\n",
       "      (bn3): BatchNorm2d(2048, eps=1e-05, momentum=0.1, affine=True, track_running_stats=True)\n",
       "      (relu): ReLU(inplace=True)\n",
       "      (downsample): Sequential(\n",
       "        (0): Conv2d(1024, 2048, kernel_size=(1, 1), stride=(2, 2), bias=False)\n",
       "        (1): BatchNorm2d(2048, eps=1e-05, momentum=0.1, affine=True, track_running_stats=True)\n",
       "      )\n",
       "    )\n",
       "    (1): Bottleneck(\n",
       "      (conv1): Conv2d(2048, 512, kernel_size=(1, 1), stride=(1, 1), bias=False)\n",
       "      (bn1): BatchNorm2d(512, eps=1e-05, momentum=0.1, affine=True, track_running_stats=True)\n",
       "      (conv2): Conv2d(512, 512, kernel_size=(3, 3), stride=(1, 1), padding=(1, 1), bias=False)\n",
       "      (bn2): BatchNorm2d(512, eps=1e-05, momentum=0.1, affine=True, track_running_stats=True)\n",
       "      (conv3): Conv2d(512, 2048, kernel_size=(1, 1), stride=(1, 1), bias=False)\n",
       "      (bn3): BatchNorm2d(2048, eps=1e-05, momentum=0.1, affine=True, track_running_stats=True)\n",
       "      (relu): ReLU(inplace=True)\n",
       "    )\n",
       "    (2): Bottleneck(\n",
       "      (conv1): Conv2d(2048, 512, kernel_size=(1, 1), stride=(1, 1), bias=False)\n",
       "      (bn1): BatchNorm2d(512, eps=1e-05, momentum=0.1, affine=True, track_running_stats=True)\n",
       "      (conv2): Conv2d(512, 512, kernel_size=(3, 3), stride=(1, 1), padding=(1, 1), bias=False)\n",
       "      (bn2): BatchNorm2d(512, eps=1e-05, momentum=0.1, affine=True, track_running_stats=True)\n",
       "      (conv3): Conv2d(512, 2048, kernel_size=(1, 1), stride=(1, 1), bias=False)\n",
       "      (bn3): BatchNorm2d(2048, eps=1e-05, momentum=0.1, affine=True, track_running_stats=True)\n",
       "      (relu): ReLU(inplace=True)\n",
       "    )\n",
       "  )\n",
       "  (8): AdaptiveAvgPool2d(output_size=(1, 1))\n",
       ")"
      ]
     },
     "execution_count": 15,
     "metadata": {},
     "output_type": "execute_result"
    }
   ],
   "source": [
    "import torch\n",
    "DIMENSION=2048\n",
    "# Load the embedding model with the last layer removed\n",
    "model = torch.hub.load('pytorch/vision:v0.10.0', 'resnet50', pretrained=True)\n",
    "model = torch.nn.Sequential(*(list(model.children())[:-1]))\n",
    "model.eval()"
   ]
  },
  {
   "cell_type": "code",
   "execution_count": 16,
   "id": "86444f69",
   "metadata": {},
   "outputs": [],
   "source": [
    "from torchvision import transforms\n",
    "\n",
    "# Preprocessing for images\n",
    "preprocess = transforms.Compose([\n",
    "    transforms.Resize(256),\n",
    "    transforms.CenterCrop(224),\n",
    "    transforms.ToTensor(),\n",
    "    transforms.Normalize(mean=[0.485, 0.456, 0.406], std=[0.229, 0.224, 0.225]),\n",
    "])"
   ]
  },
  {
   "cell_type": "code",
   "execution_count": 17,
   "id": "41dd959d",
   "metadata": {},
   "outputs": [
    {
     "name": "stderr",
     "output_type": "stream",
     "text": [
      "  0%|          | 2/1860 [00:00<05:22,  5.75it/s]"
     ]
    },
    {
     "name": "stdout",
     "output_type": "stream",
     "text": [
      "Error processing image\n"
     ]
    },
    {
     "name": "stderr",
     "output_type": "stream",
     "text": [
      "  7%|▋         | 126/1860 [00:11<02:37, 10.99it/s]/home/dreiriz/Descargas/multimodal_rag_dataset.csv/env/lib/python3.11/site-packages/PIL/Image.py:1056: UserWarning: Palette images with Transparency expressed in bytes should be converted to RGBA images\n",
      "  warnings.warn(\n",
      " 20%|█▉        | 365/1860 [00:30<01:35, 15.62it/s]"
     ]
    },
    {
     "name": "stdout",
     "output_type": "stream",
     "text": [
      "Error processing image\n"
     ]
    },
    {
     "name": "stderr",
     "output_type": "stream",
     "text": [
      " 21%|██        | 393/1860 [00:32<01:54, 12.77it/s]"
     ]
    },
    {
     "name": "stdout",
     "output_type": "stream",
     "text": [
      "Error processing image\n"
     ]
    },
    {
     "name": "stderr",
     "output_type": "stream",
     "text": [
      " 23%|██▎       | 431/1860 [00:36<01:51, 12.79it/s]"
     ]
    },
    {
     "name": "stdout",
     "output_type": "stream",
     "text": [
      "Error processing image\n"
     ]
    },
    {
     "name": "stderr",
     "output_type": "stream",
     "text": [
      " 24%|██▎       | 438/1860 [00:36<01:34, 15.00it/s]"
     ]
    },
    {
     "name": "stdout",
     "output_type": "stream",
     "text": [
      "Error processing image\n"
     ]
    },
    {
     "name": "stderr",
     "output_type": "stream",
     "text": [
      " 29%|██▊       | 534/1860 [00:44<01:42, 12.89it/s]"
     ]
    },
    {
     "name": "stdout",
     "output_type": "stream",
     "text": [
      "Error processing image\n"
     ]
    },
    {
     "name": "stderr",
     "output_type": "stream",
     "text": [
      " 31%|███▏      | 583/1860 [00:47<01:27, 14.53it/s]"
     ]
    },
    {
     "name": "stdout",
     "output_type": "stream",
     "text": [
      "Error processing image\n"
     ]
    },
    {
     "name": "stderr",
     "output_type": "stream",
     "text": [
      " 53%|█████▎    | 992/1860 [01:20<00:55, 15.62it/s]"
     ]
    },
    {
     "name": "stdout",
     "output_type": "stream",
     "text": [
      "Error processing image\n"
     ]
    },
    {
     "name": "stderr",
     "output_type": "stream",
     "text": [
      " 55%|█████▌    | 1027/1860 [01:23<00:57, 14.51it/s]"
     ]
    },
    {
     "name": "stdout",
     "output_type": "stream",
     "text": [
      "Error processing image\n"
     ]
    },
    {
     "name": "stderr",
     "output_type": "stream",
     "text": [
      " 58%|█████▊    | 1080/1860 [01:27<00:49, 15.75it/s]"
     ]
    },
    {
     "name": "stdout",
     "output_type": "stream",
     "text": [
      "Error processing image\n"
     ]
    },
    {
     "name": "stderr",
     "output_type": "stream",
     "text": [
      " 83%|████████▎ | 1541/1860 [02:04<00:22, 14.22it/s]"
     ]
    },
    {
     "name": "stdout",
     "output_type": "stream",
     "text": [
      "Error processing image\n"
     ]
    },
    {
     "name": "stderr",
     "output_type": "stream",
     "text": [
      "100%|██████████| 1860/1860 [02:30<00:00, 12.38it/s]\n"
     ]
    }
   ],
   "source": [
    "from PIL import Image\n",
    "import glob\n",
    "from tqdm import tqdm\n",
    "\n",
    "def embed(data):\n",
    "    with torch.no_grad():\n",
    "        ret = model(torch.stack(data))\n",
    "        # If more than one image, use squeeze\n",
    "        if len(ret) > 1:\n",
    "            return ret.squeeze().tolist()[0]\n",
    "        # Squeeze would remove batch for single image, so using flatten\n",
    "        else:\n",
    "            return torch.flatten(ret, start_dim=1).tolist()[0]\n",
    "\n",
    "\n",
    "# Get the filepaths of the images\n",
    "paths = glob.glob('./cr_images/*', recursive=True)\n",
    "dict_img_embd = {}\n",
    "\n",
    "for path in tqdm(paths):\n",
    "    try:\n",
    "        im = Image.open(path).convert('RGB')\n",
    "        result = preprocess(im)\n",
    "        result = embed([result])\n",
    "        file_name = path.split(\"cr_images/\")[1]\n",
    "        dict_img_embd[file_name] = result\n",
    "        #    data_batch = [[],[]]\n",
    "    except:\n",
    "        print(\"Error processing image\")\n"
   ]
  },
  {
   "cell_type": "code",
   "execution_count": 18,
   "id": "28ec5c21",
   "metadata": {},
   "outputs": [],
   "source": [
    "image_vector = data['local_image_path'].fillna('').apply(lambda x: x.replace(\"cr_images/\",\"\")).apply(lambda x: dict_img_embd[x] if x in dict_img_embd else None)"
   ]
  },
  {
   "cell_type": "code",
   "execution_count": 19,
   "id": "36863891-7fc2-4407-bd92-e1378d8528eb",
   "metadata": {},
   "outputs": [
    {
     "data": {
      "application/vnd.jupyter.widget-view+json": {
       "model_id": "4618285561ab48b68060fb6977d9b8a8",
       "version_major": 2,
       "version_minor": 0
      },
      "text/plain": [
       "Fetching 30 files:   0%|          | 0/30 [00:00<?, ?it/s]"
      ]
     },
     "metadata": {},
     "output_type": "display_data"
    },
    {
     "name": "stderr",
     "output_type": "stream",
     "text": [
      "/home/dreiriz/Descargas/multimodal_rag_dataset.csv/env/lib/python3.11/site-packages/FlagEmbedding/BGE_M3/modeling.py:335: FutureWarning: You are using `torch.load` with `weights_only=False` (the current default value), which uses the default pickle module implicitly. It is possible to construct malicious pickle data which will execute arbitrary code during unpickling (See https://github.com/pytorch/pytorch/blob/main/SECURITY.md#untrusted-models for more details). In a future release, the default value for `weights_only` will be flipped to `True`. This limits the functions that could be executed during unpickling. Arbitrary objects will no longer be allowed to be loaded via this mode unless they are explicitly allowlisted by the user via `torch.serialization.add_safe_globals`. We recommend you start setting `weights_only=True` for any use case where you don't have full control of the loaded file. Please open an issue on GitHub for any issues related to this experimental feature.\n",
      "  colbert_state_dict = torch.load(os.path.join(model_dir, 'colbert_linear.pt'), map_location='cpu')\n",
      "/home/dreiriz/Descargas/multimodal_rag_dataset.csv/env/lib/python3.11/site-packages/FlagEmbedding/BGE_M3/modeling.py:336: FutureWarning: You are using `torch.load` with `weights_only=False` (the current default value), which uses the default pickle module implicitly. It is possible to construct malicious pickle data which will execute arbitrary code during unpickling (See https://github.com/pytorch/pytorch/blob/main/SECURITY.md#untrusted-models for more details). In a future release, the default value for `weights_only` will be flipped to `True`. This limits the functions that could be executed during unpickling. Arbitrary objects will no longer be allowed to be loaded via this mode unless they are explicitly allowlisted by the user via `torch.serialization.add_safe_globals`. We recommend you start setting `weights_only=True` for any use case where you don't have full control of the loaded file. Please open an issue on GitHub for any issues related to this experimental feature.\n",
      "  sparse_state_dict = torch.load(os.path.join(model_dir, 'sparse_linear.pt'), map_location='cpu')\n",
      "Inference Embeddings:  20%|█▉        | 48/242 [11:56<41:40, 12.89s/it]  "
     ]
    }
   ],
   "source": [
    "from milvus_model.hybrid import BGEM3EmbeddingFunction\n",
    "\n",
    "ef = BGEM3EmbeddingFunction(use_fp16=False, device=\"cpu\")\n",
    "dense_dim = ef.dim[\"dense\"]\n",
    "\n",
    "# Generate embeddings using BGE-M3 model\n",
    "docs_embeddings = ef(docs)"
   ]
  },
  {
   "cell_type": "code",
   "execution_count": null,
   "id": "2b6f68f0-d0b3-4fd3-82ca-9f45188c88f6",
   "metadata": {},
   "outputs": [],
   "source": [
    "try:\n",
    "    connections.disconnect(\"default\")\n",
    "except:\n",
    "    print(\"Can't disconnect\")\n",
    "\n",
    "try:\n",
    "    client.disconnect(\"default\")\n",
    "except:\n",
    "    print(\"Can't disconnect\")"
   ]
  },
  {
   "cell_type": "code",
   "execution_count": 21,
   "id": "f30e7786-a208-45c5-b29a-ab32f66abf88",
   "metadata": {},
   "outputs": [],
   "source": [
    "milvus_db = \"milvus_demo_5.db\"\n",
    "milvus_collection = milvus_db.split(\".\")[0]"
   ]
  },
  {
   "cell_type": "code",
   "execution_count": 22,
   "id": "9d3abf17-2456-4f4f-8c63-08741c49739b",
   "metadata": {},
   "outputs": [],
   "source": [
    "from pymilvus import MilvusClient\n",
    "\n",
    "client = MilvusClient(milvus_db)"
   ]
  },
  {
   "cell_type": "code",
   "execution_count": 33,
   "id": "52d177bd-a646-4921-831f-58bba3adcf9b",
   "metadata": {},
   "outputs": [],
   "source": [
    "if client.has_collection(collection_name=milvus_collection):\n",
    "    client.drop_collection(collection_name=milvus_collection)\n"
   ]
  },
  {
   "cell_type": "code",
   "execution_count": null,
   "id": "15b13195-4293-4e86-95b6-767f9333d946",
   "metadata": {},
   "outputs": [],
   "source": []
  },
  {
   "cell_type": "code",
   "execution_count": 34,
   "id": "8044f4d0-715e-4cc8-8a8d-757ad0091382",
   "metadata": {},
   "outputs": [],
   "source": [
    "from pymilvus import (\n",
    "    connections,\n",
    "    utility,\n",
    "    FieldSchema,\n",
    "    CollectionSchema,\n",
    "    DataType,\n",
    "    Collection,\n",
    ")\n",
    "# Specify the data schema for the new Collection\n",
    "fields = [\n",
    "    # Use auto generated id as primary key\n",
    "    FieldSchema(\n",
    "        name=\"pk\", dtype=DataType.VARCHAR, is_primary=True, auto_id=True, max_length=100\n",
    "    ),\n",
    "    # Store the original text to retrieve based on semantically distance\n",
    "    FieldSchema(name=\"text\", dtype=DataType.VARCHAR, max_length=3000),\n",
    "    # Milvus now supports both sparse and dense vectors,\n",
    "    # we can store each in a separatdir(e field to conduct hybrid search on both vectors\n",
    "    #FieldSchema(name=\"sparse_vector\", dtype=DataType.SPARSE_FLOAT_VECTOR),\n",
    "    FieldSchema(name=\"dense_vector\", dtype=DataType.FLOAT_VECTOR, dim=dense_dim),\n",
    "    FieldSchema(name=\"image_vector\", dtype=DataType.FLOAT_VECTOR, dim=DIMENSION),\n",
    "    FieldSchema(name=\"local_image\", dtype=DataType.VARCHAR, max_length=512),\n",
    "    FieldSchema(name=\"country\", dtype=DataType.VARCHAR, max_length=512),\n",
    "    FieldSchema(name=\"author_name\", dtype=DataType.VARCHAR, max_length=512)\n",
    "]\n",
    "schema = CollectionSchema(fields, enable_dynamic_field=True)"
   ]
  },
  {
   "cell_type": "code",
   "execution_count": 35,
   "id": "4af3b09f-ac76-4e62-8b31-e8f25d9c4ba9",
   "metadata": {},
   "outputs": [],
   "source": [
    "index_params = client.prepare_index_params()\n",
    "\n",
    "# index_params.add_index(\n",
    "#     field_name=\"sparse_vector\",\n",
    "#     index_type=\"SPARSE_INVERTED_INDEX\",\n",
    "#     metric_type=\"IP\"\n",
    "# )\n",
    "\n",
    "index_params.add_index(\n",
    "    field_name=\"dense_vector\", \n",
    "    index_type=\"AUTOINDEX\",\n",
    "    metric_type=\"IP\",\n",
    ")\n",
    "\n",
    "index_params.add_index(\n",
    "    field_name=\"image_vector\", \n",
    "    index_type=\"AUTOINDEX\",\n",
    "    metric_type=\"L2\"\n",
    ")\n",
    "\n"
   ]
  },
  {
   "cell_type": "code",
   "execution_count": 36,
   "id": "1e06d00c-55cc-4de0-b2fe-691679850100",
   "metadata": {},
   "outputs": [],
   "source": [
    "import time\n",
    "client.create_collection(\n",
    "    collection_name=milvus_collection,\n",
    "    schema=schema,\n",
    "    index_params=index_params\n",
    ")\n",
    "\n"
   ]
  },
  {
   "cell_type": "code",
   "execution_count": null,
   "id": "805f0e08-c134-4e9b-8f8e-d35868c96a85",
   "metadata": {},
   "outputs": [],
   "source": [
    "res = client.get_load_state(\n",
    "    collection_name=milvus_collection\n",
    ")\n",
    "\n",
    "print(res)"
   ]
  },
  {
   "cell_type": "code",
   "execution_count": null,
   "id": "918da11a-dc5d-408c-a402-a9883d63b488",
   "metadata": {},
   "outputs": [],
   "source": [
    "print(res)"
   ]
  },
  {
   "cell_type": "code",
   "execution_count": null,
   "id": "c7751fb1-3ae6-43a1-b755-3a566eb44b72",
   "metadata": {},
   "outputs": [],
   "source": []
  },
  {
   "cell_type": "code",
   "execution_count": null,
   "id": "2cbe13ae-0f06-4e44-8879-05af719ec680",
   "metadata": {},
   "outputs": [],
   "source": []
  },
  {
   "cell_type": "code",
   "execution_count": null,
   "id": "81a131b5-2dda-4126-840e-248ec7594230",
   "metadata": {},
   "outputs": [],
   "source": [
    "type(docs[0])"
   ]
  },
  {
   "cell_type": "code",
   "execution_count": null,
   "id": "24f5778d-c219-432f-a40b-03a885f60ea2",
   "metadata": {},
   "outputs": [],
   "source": [
    "type(docs_embeddings[\"dense\"][0])"
   ]
  },
  {
   "cell_type": "code",
   "execution_count": null,
   "id": "398d7d51-79a5-456d-bb95-baf424c9a7d6",
   "metadata": {},
   "outputs": [],
   "source": [
    "type(docs_embeddings[\"sparse\"].toarray()[0])"
   ]
  },
  {
   "cell_type": "code",
   "execution_count": null,
   "id": "4481d464-a0d5-4c76-b324-f8521b816bca",
   "metadata": {},
   "outputs": [],
   "source": [
    "type(image_paths_list[0])"
   ]
  },
  {
   "cell_type": "code",
   "execution_count": 44,
   "id": "be669083-e813-41da-8675-5b18119b2bc5",
   "metadata": {},
   "outputs": [],
   "source": [
    "image_vector = [ [.0]*DIMENSION if vector is None else vector for vector in image_vector]\n",
    "\n",
    "for i in range(0, len(docs)):\n",
    "    insert_data = {\n",
    "        'text': docs[i],\n",
    "        #'sparse_vector': docs_embeddings[\"sparse\"][0,:],\n",
    "        'dense_vector': docs_embeddings[\"dense\"][i],\n",
    "        'image_vector':image_vector[i],\n",
    "        'local_image': image_paths_list[i],\n",
    "        'country': country_list[i],\n",
    "        'author_name': author_name_list[i],\n",
    "     }\n",
    "\n",
    "\n",
    "    client.insert(collection_name=milvus_collection, data=insert_data)"
   ]
  },
  {
   "cell_type": "code",
   "execution_count": 45,
   "id": "c2a705db-605b-4b60-96b7-ecb3f66d4af8",
   "metadata": {},
   "outputs": [],
   "source": [
    "#client.insert(collection_name=milvus_collection , data = [insert_data])"
   ]
  },
  {
   "cell_type": "code",
   "execution_count": null,
   "id": "8a1a83bc-a665-469e-8cd0-ebb3605e69fe",
   "metadata": {},
   "outputs": [],
   "source": []
  },
  {
   "cell_type": "code",
   "execution_count": null,
   "id": "9db235cb-4cae-4835-8a84-a65df9d1643b",
   "metadata": {},
   "outputs": [],
   "source": []
  },
  {
   "cell_type": "code",
   "execution_count": null,
   "id": "30576d1f-f180-4772-993a-ffc4efbdcc42",
   "metadata": {},
   "outputs": [],
   "source": []
  },
  {
   "cell_type": "code",
   "execution_count": 32,
   "id": "c0bf9f26-a9cf-4762-8299-8dceb07474a4",
   "metadata": {},
   "outputs": [],
   "source": [
    "from tqdm import tqdm"
   ]
  },
  {
   "cell_type": "code",
   "execution_count": 33,
   "id": "fcd8f4a0-7e73-4b09-801b-34b0c65ecfb3",
   "metadata": {},
   "outputs": [],
   "source": [
    "# For efficiency, we insert 50 records in each small batch\n",
    "# for i in tqdm(range(0, len(docs), 50)):\n",
    "#     batched_entities = [\n",
    "#         docs[i : i + 50],\n",
    "#         docs_embeddings[\"sparse\"][i : i + 50],\n",
    "#         docs_embeddings[\"dense\"][i : i + 50],\n",
    "#         image_paths_list[i : i + 50],\n",
    "#     ]\n",
    "#    \n",
    "#     col.insert(batched_entities)\n",
    "# print(\"Number of entities inserted:\", col.num_entities)"
   ]
  },
  {
   "cell_type": "code",
   "execution_count": 34,
   "id": "192083e9-2d70-4245-9c5d-7a75e52abce2",
   "metadata": {},
   "outputs": [],
   "source": [
    "# Enter your search query\n",
    "query = \"La reina Isabel II alimenta niños como animales\"\n",
    "\n",
    "# Generate embeddings for the query\n",
    "query_embeddings = ef([query])\n",
    "# print(query_embeddings)"
   ]
  },
  {
   "cell_type": "code",
   "execution_count": 35,
   "id": "c7e838b6-a755-496e-b9ad-3ff5a794018d",
   "metadata": {},
   "outputs": [],
   "source": [
    "from pymilvus import (\n",
    "    AnnSearchRequest,\n",
    "    WeightedRanker,\n",
    ")\n",
    "\n",
    "\n",
    "def dense_search(col, query_dense_embedding, limit=10):\n",
    "    search_params = {\n",
    "        \"metric_type\": \"IP\",\n",
    "        \"params\": {\n",
    "            \"radius\": 0.6,\n",
    "        }}\n",
    "    res = client.search(\n",
    "        collection_name=milvus_collection,\n",
    "        data=[query_dense_embedding],\n",
    "        anns_field=\"dense_vector\",\n",
    "        limit=limit,\n",
    "        output_fields=[\"text\",\"local_image\"],\n",
    "        search_params=search_params,\n",
    "        \n",
    "    )\n",
    "    return res[0]\n",
    "\n",
    "\n",
    "def sparse_search(col, query_sparse_embedding, limit=10):\n",
    "    search_params = {\n",
    "        \"metric_type\": \"IP\",\n",
    "        \"params\": {\n",
    "            \"radius\": 0.8,\n",
    "        },\n",
    "    }\n",
    "    res = connection.search(\n",
    "        [query_sparse_embedding],\n",
    "        anns_field=\"sparse_vector\",\n",
    "        limit=limit,\n",
    "        output_fields=[\"text\",\"\"],\n",
    "        param=search_params,\n",
    "    )[0]\n",
    "    return res\n",
    "\n",
    "\n",
    "def hybrid_search(\n",
    "    col,\n",
    "    query_dense_embedding,\n",
    "    query_sparse_embedding,\n",
    "    sparse_weight=1.0,\n",
    "    dense_weight=1.0,\n",
    "    limit=10,\n",
    "):\n",
    "    dense_search_params = {\"metric_type\": \"IP\", \"params\": {}}\n",
    "    dense_req = AnnSearchRequest(\n",
    "        [query_dense_embedding], \"dense_vector\", dense_search_params, limit=limit\n",
    "    )\n",
    "    sparse_search_params = {\"metric_type\": \"IP\", \"params\": {}}\n",
    "    sparse_req = AnnSearchRequest(\n",
    "        [query_sparse_embedding], \"sparse_vector\", sparse_search_params, limit=limit\n",
    "    )\n",
    "    rerank = WeightedRanker(sparse_weight, dense_weight)\n",
    "    res = col.hybrid_search(\n",
    "        [sparse_req, dense_req], rerank=rerank, limit=limit, output_fields=[\"text\"], radius=0.7\n",
    "    )[0]\n",
    "    return res"
   ]
  },
  {
   "cell_type": "code",
   "execution_count": null,
   "id": "e10d73fd-5d1c-4350-9143-b39ea23d8a0f",
   "metadata": {},
   "outputs": [],
   "source": [
    "dense_results = dense_search(col, query_embeddings[\"dense\"][0])\n",
    "# sparse_results = sparse_search(col, query_embeddings[\"sparse\"][[0]])\n",
    "# hybrid_results = hybrid_search(\n",
    "#     col,\n",
    "#     query_embeddings[\"dense\"][0],\n",
    "#     query_embeddings[\"sparse\"][[0]],\n",
    "#     sparse_weight=0.7,\n",
    "#     dense_weight=1.0,\n",
    "# )"
   ]
  },
  {
   "cell_type": "code",
   "execution_count": null,
   "id": "e917017b-9f0b-4bd5-8aeb-c9b03c7ecb12",
   "metadata": {},
   "outputs": [],
   "source": [
    "dense_results"
   ]
  },
  {
   "cell_type": "code",
   "execution_count": null,
   "id": "0d6c7079-7561-435c-b1c0-d447e57a85f9",
   "metadata": {},
   "outputs": [],
   "source": []
  },
  {
   "cell_type": "code",
   "execution_count": null,
   "id": "dc0a1ce4-3a22-4fc5-8768-7e8158c70175",
   "metadata": {},
   "outputs": [],
   "source": []
  },
  {
   "cell_type": "code",
   "execution_count": null,
   "id": "b6d0ae2f-ba4c-4d12-970e-3ad412543248",
   "metadata": {},
   "outputs": [],
   "source": []
  }
 ],
 "metadata": {
  "kernelspec": {
   "display_name": "Python 3 (ipykernel)",
   "language": "python",
   "name": "python3"
  },
  "language_info": {
   "codemirror_mode": {
    "name": "ipython",
    "version": 3
   },
   "file_extension": ".py",
   "mimetype": "text/x-python",
   "name": "python",
   "nbconvert_exporter": "python",
   "pygments_lexer": "ipython3",
   "version": "3.11.10"
  }
 },
 "nbformat": 4,
 "nbformat_minor": 5
}
